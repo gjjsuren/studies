{
 "cells": [
  {
   "cell_type": "code",
   "execution_count": 2,
   "id": "d92f39a5",
   "metadata": {},
   "outputs": [
    {
     "name": "stdout",
     "output_type": "stream",
     "text": [
      "Pandas version: 2.2.3\n",
      "NumPy version: 2.2.5\n"
     ]
    }
   ],
   "source": [
    "import pandas as pd\n",
    "import numpy as np\n",
    "\n",
    "print(\"Pandas version:\", pd.__version__)\n",
    "print(\"NumPy version:\", np.__version__)"
   ]
  },
  {
   "cell_type": "markdown",
   "id": "b05f2c88",
   "metadata": {},
   "source": [
    "# 1.2.1 Een productieplanningsprobleem\n",
    "\n",
    "Een bedrijf fabriceert vier verschillende producten A, B, C en D. De productiemanager moet een productieplan ontwerpen voor de komende week. \n",
    "\n",
    "Elk product ondergaat een drietal fasen:\n",
    "*   Assemblage\n",
    "*   Afronding\n",
    "*   Verpakking\n",
    "\n",
    "Elk product heeft een zekere tijd nodig om elk van de processen te ondergaan. Deze tijden in uren per eenheid product per operatie staan in (de onderstaande) tabel 1.1. Elke eenheid van product A heeft bijvoorbeeld 0.7 uur nodig voor assemblage, 0.55 uur voor de afronding en 0.24 uur voor de verpakking. Elke week is er 400 uur beschikbaar op de afdeling assemblage, 480 uur op de afdeling afronding en 220 uur op de afdeling verpakking. Dezelfde grondstof wordt gebruikt voor elk van de producten. De grondstofbehoeften van de respectievelijke producten A, B, C en D zijn 1.9, 2.5, 1.8 en 2 eenheden per eenheid product. In totaal zijn 1500 eenheden grondstof aanwezig voor de productie van een week. Na aftrek van grondstofkosten dragen de producten A, B, C en D per eenheid voor respectievelijk 4.80 euro, 12 euro, 6 euro en 7.20 euro bij in de winst. De vraag voor elk van de producten is zeer groot en het bedrijf kan zoveel producten verkopen als het produceert. Het bedrijf heeft al een order van 100 eenheden A voor de komende week geaccepteerd. Hoe moet de productiemanager zijn productieplan kiezen zodat zijn totale winst gemaximaliseerd wordt onder de bovenstaande voorwaarden?\n",
    "\n",
    "Tabel 1.1: productietijden in uren:\n",
    "\n",
    "\\[\n",
    "\\begin{array}{|c|c|c|c|c|c|}\n",
    "\\hline\n",
    "\\textbf{Fasen} & \\textbf{Prod. A} & \\textbf{Prod. B} & \\textbf{Prod. C} & \\textbf{Prod. D} & \\textbf{Beschikbaar} \\\\\n",
    "\\hline\n",
    "\\text{Assemblage} & 0.7 & 0.75 & 0.55 & 0.34 & 400 \\\\\n",
    "\\hline\n",
    "\\text{Afronding} & 0.55 & 0.82 & 0.8 & 0.55 & 480 \\\\\n",
    "\\hline\n",
    "\\text{Verpakking} & 0.24 & 0.32 & 0.45 & 0.27 & 220 \\\\\n",
    "\\hline\n",
    "\\end{array}\n",
    "\\]"
   ]
  },
  {
   "cell_type": "markdown",
   "id": "4122ccce",
   "metadata": {},
   "source": [
    "Oplossing: Formulering:\n",
    "\n",
    "Definieer:\n",
    "\n",
    "* $X_i$ : aantallen product $i$ waarbij $i \\in \\{ A, B, C, D \\}$\n",
    "* $G_i$ : grondstofbehoefte $i$ waarbij $i \\in \\{ A, B, C, D \\}$\n",
    "* $O_i$ : opbrengst $i$ waarbij $i \\in \\{ A, B, C, D \\}$\n",
    "* $B_j$ : beschikbaarheid uren fase j waarbij $j \\in \\{ \\text{Assemblage}, \\text{Afronding}, \\text{Verpakking} \\}$\n",
    "\n",
    "$$\n",
    "    \\text{Max } \\sum^{}_{\\forall i} X_{i} O_i \\\\\n",
    "\n",
    "    \\text{onder: } \\\\\n",
    "    G X \\leq B \\\\\n",
    "    \\sum^{}_{\\forall i} X_i G_i \\leq 1500 \\\\\n",
    "    X_A \\geq 100 \\\\\n",
    "    X_A, X_B, X_C, X_D \\geq 0\n",
    "$$"
   ]
  },
  {
   "cell_type": "code",
   "execution_count": 7,
   "id": "c4a6307b",
   "metadata": {},
   "outputs": [
    {
     "name": "stdout",
     "output_type": "stream",
     "text": [
      "Optimal value: 6186.461538461538\n",
      "Optimal solution: [100.         330.15384615   0.         242.30769231]\n",
      "Success: True\n"
     ]
    }
   ],
   "source": [
    "from scipy.optimize import linprog\n",
    "\n",
    "# Objective function coefficients (maximize profit, so we minimize the negative)\n",
    "c = [-4.8, -12, -6, -7.2]  # Example coefficients for the objective function\n",
    "\n",
    "# Coefficients for inequality constraints (Ax <= b)\n",
    "A = [\n",
    "    [0.7, 0.75, 0.55, 0.34],  # Constraint 1\n",
    "    [0.55, 0.82, 0.8, 0.55],  # Constraint 2\n",
    "    [0.24, 0.32, 0.45, 0.27],  # Constraint 3\n",
    "    [1.9, 2.5, 1.8, 2],  # Constraint 4\n",
    "]\n",
    "b = [400, 480, 220, 1500]  # Right-hand side of the constraints\n",
    "\n",
    "# Bounds for the variables (x1, x2, x3, x4 >= 0)\n",
    "x_bounds = [(100, None), (0, None), (0, None), (0, None)]\n",
    "\n",
    "# Solve the linear programming problem using the simplex method ('highs' solver)\n",
    "result = linprog(c, A_ub=A, b_ub=b, bounds=x_bounds, method=\"highs\")\n",
    "\n",
    "# Print the result\n",
    "print(\"Optimal value:\", -result.fun)  # Negate to get the maximized value\n",
    "print(\"Optimal solution:\", result.x)\n",
    "print(\"Success:\", result.success)"
   ]
  },
  {
   "cell_type": "code",
   "execution_count": null,
   "id": "5fe37bb7",
   "metadata": {},
   "outputs": [],
   "source": []
  },
  {
   "cell_type": "code",
   "execution_count": null,
   "id": "7ed9f5bd",
   "metadata": {},
   "outputs": [],
   "source": []
  },
  {
   "cell_type": "code",
   "execution_count": null,
   "id": "e2fa0941",
   "metadata": {},
   "outputs": [
    {
     "name": "stdout",
     "output_type": "stream",
     "text": [
      "Pandas version: 2.2.3\n",
      "NumPy version: 2.2.5\n"
     ]
    }
   ],
   "source": []
  }
 ],
 "metadata": {
  "kernelspec": {
   "display_name": ".venv",
   "language": "python",
   "name": "python3"
  },
  "language_info": {
   "codemirror_mode": {
    "name": "ipython",
    "version": 3
   },
   "file_extension": ".py",
   "mimetype": "text/x-python",
   "name": "python",
   "nbconvert_exporter": "python",
   "pygments_lexer": "ipython3",
   "version": "3.13.3"
  }
 },
 "nbformat": 4,
 "nbformat_minor": 5
}
